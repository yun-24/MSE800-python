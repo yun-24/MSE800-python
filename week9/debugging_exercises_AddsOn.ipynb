{
 "cells": [
  {
   "cell_type": "markdown",
   "id": "73afa10f",
   "metadata": {},
   "source": [
    "# Debugging Exercises\n",
    "---\n",
    "## Solve these debugging problems!"
   ]
  },
  {
   "cell_type": "markdown",
   "id": "a7da7e1d",
   "metadata": {},
   "source": [
    "## Instructions\n",
    "Each of the following exercises contains a bug. Your task is to:\n",
    "1. Identify the bug.\n",
    "2. Use debugging techniques (print, `pdb`, logging) to find the issue.\n",
    "3. Fix the issue and ensure the function runs correctly.\n",
    "Let's get started!\n"
   ]
  },
  {
   "cell_type": "markdown",
   "id": "fce7bf94",
   "metadata": {},
   "source": [
    "### Exercise 1: Off-by-One Error"
   ]
  },
  {
   "cell_type": "code",
   "execution_count": 4,
   "id": "e02fb0d9",
   "metadata": {},
   "outputs": [
    {
     "name": "stdout",
     "output_type": "stream",
     "text": [
      "15\n"
     ]
    }
   ],
   "source": [
    "# This function should return the sum of numbers from 1 to n\n",
    "def sum_numbers(n):\n",
    "    total = 0\n",
    "    for i in range(1, n+1):  # Bug: This excludes n\n",
    "        total += i\n",
    "    return total\n",
    "\n",
    "print(sum_numbers(5))  # Expected output: 15, but it returns 10"
   ]
  },
  {
   "cell_type": "markdown",
   "id": "3fb8c05d",
   "metadata": {},
   "source": [
    "### Exercise 2: List Index Error"
   ]
  },
  {
   "cell_type": "code",
   "execution_count": 7,
   "id": "9f3ff5ce",
   "metadata": {},
   "outputs": [
    {
     "name": "stdout",
     "output_type": "stream",
     "text": [
      "3\n"
     ]
    }
   ],
   "source": [
    "# This function should return the last item in a list\n",
    "def get_last_item(lst):\n",
    "    return lst[len(lst)-1]  # Bug: Index should be len(lst) - 1\n",
    "\n",
    "print(get_last_item([1, 2, 3]))  # Expected output: 3, but causes an error"
   ]
  },
  {
   "cell_type": "markdown",
   "id": "2dd95c90",
   "metadata": {},
   "source": [
    "### Exercise 3: String Concatenation Error"
   ]
  },
  {
   "cell_type": "code",
   "execution_count": 8,
   "id": "f727d0c0",
   "metadata": {},
   "outputs": [
    {
     "ename": "TypeError",
     "evalue": "can only concatenate str (not \"int\") to str",
     "output_type": "error",
     "traceback": [
      "\u001B[0;31m---------------------------------------------------------------------------\u001B[0m",
      "\u001B[0;31mTypeError\u001B[0m                                 Traceback (most recent call last)",
      "Cell \u001B[0;32mIn[8], line 5\u001B[0m\n\u001B[1;32m      2\u001B[0m \u001B[38;5;28;01mdef\u001B[39;00m\u001B[38;5;250m \u001B[39m\u001B[38;5;21mgreet_user\u001B[39m(name, age):\n\u001B[1;32m      3\u001B[0m     \u001B[38;5;28;01mreturn\u001B[39;00m \u001B[38;5;124m'\u001B[39m\u001B[38;5;124mHello \u001B[39m\u001B[38;5;124m'\u001B[39m \u001B[38;5;241m+\u001B[39m name \u001B[38;5;241m+\u001B[39m \u001B[38;5;124m'\u001B[39m\u001B[38;5;124m, you are \u001B[39m\u001B[38;5;124m'\u001B[39m \u001B[38;5;241m+\u001B[39m age \u001B[38;5;241m+\u001B[39m \u001B[38;5;124m'\u001B[39m\u001B[38;5;124m years old.\u001B[39m\u001B[38;5;124m'\u001B[39m  \u001B[38;5;66;03m# Bug: age is an integer\u001B[39;00m\n\u001B[0;32m----> 5\u001B[0m \u001B[38;5;28mprint\u001B[39m(\u001B[43mgreet_user\u001B[49m\u001B[43m(\u001B[49m\u001B[38;5;124;43m'\u001B[39;49m\u001B[38;5;124;43mAlice\u001B[39;49m\u001B[38;5;124;43m'\u001B[39;49m\u001B[43m,\u001B[49m\u001B[43m \u001B[49m\u001B[38;5;241;43m25\u001B[39;49m\u001B[43m)\u001B[49m)  \u001B[38;5;66;03m# Expected output: 'Hello Alice, you are 25 years old.', but causes an error\u001B[39;00m\n",
      "Cell \u001B[0;32mIn[8], line 3\u001B[0m, in \u001B[0;36mgreet_user\u001B[0;34m(name, age)\u001B[0m\n\u001B[1;32m      2\u001B[0m \u001B[38;5;28;01mdef\u001B[39;00m\u001B[38;5;250m \u001B[39m\u001B[38;5;21mgreet_user\u001B[39m(name, age):\n\u001B[0;32m----> 3\u001B[0m     \u001B[38;5;28;01mreturn\u001B[39;00m \u001B[38;5;124;43m'\u001B[39;49m\u001B[38;5;124;43mHello \u001B[39;49m\u001B[38;5;124;43m'\u001B[39;49m\u001B[43m \u001B[49m\u001B[38;5;241;43m+\u001B[39;49m\u001B[43m \u001B[49m\u001B[43mname\u001B[49m\u001B[43m \u001B[49m\u001B[38;5;241;43m+\u001B[39;49m\u001B[43m \u001B[49m\u001B[38;5;124;43m'\u001B[39;49m\u001B[38;5;124;43m, you are \u001B[39;49m\u001B[38;5;124;43m'\u001B[39;49m\u001B[43m \u001B[49m\u001B[38;5;241;43m+\u001B[39;49m\u001B[43m \u001B[49m\u001B[43mage\u001B[49m \u001B[38;5;241m+\u001B[39m \u001B[38;5;124m'\u001B[39m\u001B[38;5;124m years old.\u001B[39m\u001B[38;5;124m'\u001B[39m\n",
      "\u001B[0;31mTypeError\u001B[0m: can only concatenate str (not \"int\") to str"
     ]
    }
   ],
   "source": [
    "# This function should return a formatted string\n",
    "def greet_user(name, age):\n",
    "    return 'Hello ' + name + ', you are ' + str(age) + ' years old.'  # Bug: age is an integer\n",
    "\n",
    "print(greet_user('Alice', 25))  # Expected output: 'Hello Alice, you are 25 years old.', but causes an error"
   ]
  },
  {
   "cell_type": "markdown",
   "id": "e45924b6",
   "metadata": {},
   "source": [
    "### Exercise 4: Division by Zero"
   ]
  },
  {
   "cell_type": "code",
   "execution_count": 13,
   "id": "98641134",
   "metadata": {},
   "outputs": [
    {
     "name": "stdout",
     "output_type": "stream",
     "text": [
      "Error: Cannot divide by zero.\n"
     ]
    }
   ],
   "source": [
    "# This function should return the result of dividing a number by another\n",
    "def safe_divide(a, b):\n",
    "    if b == 0:\n",
    "        return \"Error: Cannot divide by zero.\"\n",
    "    else: \n",
    "        return a / b  # Bug: No check for division by zero\n",
    "\n",
    "print(safe_divide(10, 0))  # Expected: Handle the zero division case"
   ]
  },
  {
   "cell_type": "code",
   "execution_count": null,
   "id": "556b24e8-8910-41d0-a279-1bd1ee9f2dbb",
   "metadata": {},
   "outputs": [],
   "source": []
  }
 ],
 "metadata": {
  "kernelspec": {
   "display_name": "Python 3 (ipykernel)",
   "language": "python",
   "name": "python3"
  },
  "language_info": {
   "codemirror_mode": {
    "name": "ipython",
    "version": 3
   },
   "file_extension": ".py",
   "mimetype": "text/x-python",
   "name": "python",
   "nbconvert_exporter": "python",
   "pygments_lexer": "ipython3",
   "version": "3.10.15"
  }
 },
 "nbformat": 4,
 "nbformat_minor": 5
}